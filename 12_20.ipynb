{
 "cells": [
  {
   "cell_type": "code",
   "execution_count": 3,
   "metadata": {},
   "outputs": [],
   "source": [
    "import requests"
   ]
  },
  {
   "cell_type": "code",
   "execution_count": 4,
   "metadata": {},
   "outputs": [
    {
     "name": "stdout",
     "output_type": "stream",
     "text": [
      "<!DOCTYPE HTML>\n",
      "<html lang=\"ko\">\n",
      "<head>\n",
      "    <meta http-equiv=\"Content-Type\" content=\"text/html; charset=utf-8\"/>\n",
      "    <meta name=\"viewport\" content=\"width=device-width,initial-scale=1.0,maximum-scale=1.0,minimum-scale=1.0,user-scalable=no\">\n",
      "    <meta name=\"description\" lang=\"ko\" content=\"ì ì í ë¤ì íì¸í´ì£¼ì¸ì! : ë¤ì´ë² ì¼í\">\n",
      "    <title>ìë¬ íì´ì§ : ë¤ì´ë² ì¼í</title>\n",
      "    <link rel=\"stylesheet\" type=\"text/css\" href=\"https://shopv.pstatic.net/web/maintenance/limit/naver_error.css\">\n",
      "    <script src=\"https://shopv.pstatic.net/web/maintenance/limit/grafolio.js\"></script>\n",
      "</head>\n",
      "<body>\n",
      "<div id=\"u_skip\" class=\"u_skip\">\n",
      "    <a href=\"#content\">ë³¸ë¬¸ ë°ë¡ê°ê¸°</a>\n",
      "</div>\n",
      "<div class=\"wrap\">\n",
      "    <div class=\"header\" role=\"banner\">\n",
      "        <h1 class=\"logo\">\n",
      "            <a href=\"https://naver.com\" class=\"logo_link\">\n",
      "                <img src=\"https://shopv.pstatic.net/web/maintenance/limit/naver_logo.png\" width=\"90\" height=\"16\" alt=\"ë¤ì´ë²\">\n",
      "            </a>\n",
      "        </h1>\n",
      "        <div class=\"nav\" role=\"navigation\">\n",
      "            <a href=\"https://naver.com\" class=\"nav_link\">ë¤ì´ë²í</a>\n",
      "            <a href=\"https://help.pay.naver.com\" class=\"nav_link\">ì¼í&íì´ ê³ ê°ì¼í°</a>\n",
      "        </div>\n",
      "    </div>\n",
      "    <hr>\n",
      "    <div class=\"container\" role=\"main\">\n",
      "        <div class=\"content\" id=\"content\">\n",
      "            <div class=\"image_area _errorImage\"></div>\n",
      "\n",
      "            <div class=\"info_area\">\n",
      "                <div class=\"info_txt\">\n",
      "                    <strong class=\"tit\">ì ì í ë¤ì íì¸í´ì£¼ì¸ì!</strong>\n",
      "                    <p class=\"txt\">\n",
      "                        ì§ê¸ ì´ ìë¹ì¤ì ì°ê²°í  ì ììµëë¤.<br>\n",
      "                        ë¬¸ì ë¥¼ í´ê²°íê¸° ìí´ ì´ì¬í ë¸ë ¥íê³  ììµëë¤.<br>\n",
      "                        ì ì í ë¤ì íì¸í´ì£¼ì¸ì.\n",
      "                    </p>\n",
      "                </div>\n",
      "                <div class=\"info_link\">\n",
      "                    <a href=\"javascript:history.go(-1)\" class=\"link_prev\">ì´ì  íì´ì§</a><a href=\"https://shopping.naver.com\" class=\"link_home\">ë¤ì´ë² ì¼í í</a>\n",
      "                </div>\n",
      "            </div>\n",
      "        </div>\n",
      "    </div>\n",
      "    <hr>\n",
      "    <div class=\"footer\" role=\"contentinfo\">\n",
      "        <address>\n",
      "            <span>Copyright</span> Â©<a href=\"http://www.navercorp.com\" class=\"link_naver\" target=\"_blank\">NAVER Corp.</a> <span>All Rights Reserved.</span>\n",
      "        </address>\n",
      "    </div>\n",
      "</div>\n",
      "</body>\n",
      "</html>\n"
     ]
    }
   ],
   "source": [
    "res=requests.get('https://shopping.naver.com/ns/home')\n",
    "html=res.text\n",
    "print(html)"
   ]
  },
  {
   "cell_type": "code",
   "execution_count": 2,
   "metadata": {},
   "outputs": [],
   "source": [
    "from bs4 import BeautifulSoup\n",
    "\n",
    "html_str = '''\n",
    "<html>\n",
    "    <body>\n",
    "        <div id=\"content\">\n",
    "            <ul class = 'industry'>\n",
    "                <li>인공지능</li>\n",
    "                <li>빅데이터</li>\n",
    "                <li>스마트팩토리</li>\n",
    "            </ul>\n",
    "            <ul class = 'comlang'>\n",
    "                <li>Python</li>\n",
    "                <li>C++</li>\n",
    "                <li>Javascript</li>\n",
    "            </ul>\n",
    "        </div>\n",
    "    </body>\n",
    "</html>\n",
    "'''\n",
    "\n",
    "soup=BeautifulSoup(html_str, 'html.parser')"
   ]
  },
  {
   "cell_type": "code",
   "execution_count": 7,
   "metadata": {},
   "outputs": [
    {
     "name": "stdout",
     "output_type": "stream",
     "text": [
      "<ul class=\"industry\">\n",
      "<li>인공지능</li>\n",
      "<li>빅데이터</li>\n",
      "<li>스마트팩토리</li>\n",
      "</ul>\n",
      "\n",
      "인공지능\n",
      "빅데이터\n",
      "스마트팩토리\n",
      "\n",
      "\n",
      "인공지능\n",
      "빅데이터\n",
      "스마트팩토리\n",
      "\n"
     ]
    }
   ],
   "source": [
    "a1=soup.find('ul')\n",
    "print(a1)\n",
    "print(a1.text)\n",
    "print(a1.get_text())"
   ]
  },
  {
   "cell_type": "code",
   "execution_count": 15,
   "metadata": {},
   "outputs": [
    {
     "name": "stdout",
     "output_type": "stream",
     "text": [
      "[<ul class=\"industry\">\n",
      "<li>인공지능</li>\n",
      "<li>빅데이터</li>\n",
      "<li>스마트팩토리</li>\n",
      "</ul>, <ul class=\"comlang\">\n",
      "<li>Python</li>\n",
      "<li>C++</li>\n",
      "<li>Javascript</li>\n",
      "</ul>]\n",
      "<ul class=\"industry\">\n",
      "<li>인공지능</li>\n",
      "<li>빅데이터</li>\n",
      "<li>스마트팩토리</li>\n",
      "</ul>\n",
      "\n",
      "인공지능\n",
      "빅데이터\n",
      "스마트팩토리\n",
      "\n",
      "\n",
      "인공지능\n",
      "빅데이터\n",
      "스마트팩토리\n",
      "\n",
      "\n",
      "Python\n",
      "C++\n",
      "Javascript\n",
      "\n"
     ]
    }
   ],
   "source": [
    "a2=soup.findAll('ul')\n",
    "print(a2)\n",
    "print(a2[0])\n",
    "print(a2[0].text)\n",
    "\n",
    "for i in a2:\n",
    "    print(i.text)"
   ]
  },
  {
   "cell_type": "code",
   "execution_count": 19,
   "metadata": {},
   "outputs": [
    {
     "name": "stdout",
     "output_type": "stream",
     "text": [
      "<ul class=\"comlang\">\n",
      "<li>Python</li>\n",
      "<li>C++</li>\n",
      "<li>Javascript</li>\n",
      "</ul>\n",
      "\n",
      "Python\n",
      "C++\n",
      "Javascript\n",
      "\n"
     ]
    }
   ],
   "source": [
    "a3=soup.find('ul', class_='comlang')\n",
    "print(a3)\n",
    "print(a3.text)\n"
   ]
  },
  {
   "cell_type": "code",
   "execution_count": 21,
   "metadata": {},
   "outputs": [
    {
     "name": "stdout",
     "output_type": "stream",
     "text": [
      "<ul class=\"industry\">\n",
      "<li>인공지능</li>\n",
      "<li>빅데이터</li>\n",
      "<li>스마트팩토리</li>\n",
      "</ul>\n",
      "\n",
      "인공지능\n",
      "빅데이터\n",
      "스마트팩토리\n",
      "\n",
      "<ul class=\"comlang\">\n",
      "<li>Python</li>\n",
      "<li>C++</li>\n",
      "<li>Javascript</li>\n",
      "</ul>\n",
      "\n",
      "Python\n",
      "C++\n",
      "Javascript\n",
      "\n"
     ]
    }
   ],
   "source": [
    "a4=soup.select_one('ul.industry')\n",
    "print(a4)\n",
    "print(a4.text)\n",
    "\n",
    "a5=soup.select_one('ul.comlang')\n",
    "print(a5)\n",
    "print(a5.text)"
   ]
  },
  {
   "cell_type": "code",
   "execution_count": 22,
   "metadata": {},
   "outputs": [
    {
     "name": "stdout",
     "output_type": "stream",
     "text": [
      "[<li>인공지능</li>, <li>빅데이터</li>, <li>스마트팩토리</li>, <li>Python</li>, <li>C++</li>, <li>Javascript</li>]\n",
      "<li>인공지능</li>\n",
      "인공지능\n"
     ]
    }
   ],
   "source": [
    "a6=soup.select('li')\n",
    "print(a6)\n",
    "print(a6[0])\n",
    "print(a6[0].text)"
   ]
  },
  {
   "cell_type": "code",
   "execution_count": 24,
   "metadata": {},
   "outputs": [
    {
     "name": "stdout",
     "output_type": "stream",
     "text": [
      "[<li>인공지능</li>, <li>빅데이터</li>, <li>스마트팩토리</li>]\n",
      "<li>인공지능</li>\n",
      "인공지능\n"
     ]
    }
   ],
   "source": [
    "a7=soup.select('ul.industry > li')\n",
    "print(a7)\n",
    "print(a7[0])\n",
    "print(a7[0].text)"
   ]
  },
  {
   "cell_type": "code",
   "execution_count": 34,
   "metadata": {},
   "outputs": [
    {
     "name": "stdout",
     "output_type": "stream",
     "text": [
      "1\n",
      "[<div id=\"content\">\n",
      "<ul class=\"industry\">\n",
      "<li>인공지능</li>\n",
      "<li>빅데이터</li>\n",
      "<li>스마트팩토리</li>\n",
      "</ul>\n",
      "<ul class=\"comlang\">\n",
      "<li>Python</li>\n",
      "<li>C++</li>\n",
      "<li>Javascript</li>\n",
      "</ul>\n",
      "</div>]\n",
      "\n",
      "\n",
      "인공지능\n",
      "빅데이터\n",
      "스마트팩토리\n",
      "\n",
      "\n",
      "Python\n",
      "C++\n",
      "Javascript\n",
      "\n",
      "\n"
     ]
    }
   ],
   "source": [
    "# #은 아이디\n",
    "a8=soup.select('#content')\n",
    "print(len(a8))\n",
    "print(a8)\n",
    "print(a8[0].text)"
   ]
  },
  {
   "cell_type": "code",
   "execution_count": 38,
   "metadata": {},
   "outputs": [],
   "source": [
    "sss='''\n",
    "    <div class='a'>\n",
    "        <a href='http://naver.com', class='dsc_thumb'></a>\n",
    "    </div>\n",
    "'''\n",
    "\n",
    "soup=BeautifulSoup(sss, 'html.parser')"
   ]
  },
  {
   "cell_type": "code",
   "execution_count": 39,
   "metadata": {},
   "outputs": [
    {
     "name": "stdout",
     "output_type": "stream",
     "text": [
      "<a ,=\"\" class=\"dsc_thumb\" href=\"http://naver.com\"></a>\n",
      "http://naver.com\n",
      "['dsc_thumb']\n"
     ]
    }
   ],
   "source": [
    "b=soup.select_one('div a')\n",
    "print(b)\n",
    "print(b['href'])\n",
    "print(b['class'])"
   ]
  },
  {
   "cell_type": "code",
   "execution_count": 84,
   "metadata": {},
   "outputs": [
    {
     "name": "stdout",
     "output_type": "stream",
     "text": [
      "K리그2 안산, 수원 삼성에서 뛴 윙어 류승완 영입 https://www.yna.co.kr/view/AKR20241218055600007?input=1195m\n",
      "창단 30주년 수원 축구단 이야기…'수원삼성 때문에 산다' 출간 https://www.news1.kr/sports/soccer/5634904\n",
      "수원 수입차 매장 거리의 지식산업센터, 시너지 기대감 http://www.metroseoul.co.kr/article/20241219500106\n",
      "프로축구연맹, 2024 K리그 의무세미나 개최...수원삼성 배상원 주치의, ... http://www.osen.co.kr/article/G1112474843\n"
     ]
    }
   ],
   "source": [
    "import requests\n",
    "\n",
    "qu=input('검색어를 업력하시오.:')\n",
    "\n",
    "\n",
    "#soup=BeautifulSoup(naver.content.decode('euc-kr'), 'html.parser')\n",
    "\n",
    "search=requests.get(f'https://search.naver.com/search.naver?where=nexearch&sm=top_hty&fbm=0&ie=utf8&query={qu}')\n",
    "\n",
    "html=search.text\n",
    "\n",
    "soup=BeautifulSoup(html, 'html.parser')\n",
    "\n",
    "news=soup.select('.news_tit')\n",
    "\n",
    "for i in news:\n",
    "    title=i.text\n",
    "    link=i['href']\n",
    "    print(title, link)"
   ]
  },
  {
   "cell_type": "code",
   "execution_count": 11,
   "metadata": {},
   "outputs": [],
   "source": [
    "import openpyxl\n",
    "\n",
    "wb=openpyxl.Workbook()\n",
    "\n",
    "ws=wb.create_sheet('codingon')\n",
    "\n",
    "ws['A1']='이름'\n",
    "ws['B1']='영어이름'\n",
    "ws['A2']='김세령'\n",
    "ws['B2']='sarah'\n",
    "\n",
    "wb.save('C:/Users/Administrator/python/codingon.xlsx')"
   ]
  },
  {
   "cell_type": "code",
   "execution_count": null,
   "metadata": {},
   "outputs": [
    {
     "name": "stdout",
     "output_type": "stream",
     "text": [
      "<Worksheet \"codingon\">\n"
     ]
    }
   ],
   "source": [
    "wb=openpyxl.load_workbook(r'C:/Users/Administrator/python/codingon.xlsx')\n",
    "ws=wb['codingon']\n",
    "ws['A3']='김세영'\n",
    "ws['B3']='sarahah'\n",
    "\n",
    "wb.save('C:/Users/Administrator/python/codingon.xlsx')"
   ]
  },
  {
   "cell_type": "code",
   "execution_count": 16,
   "metadata": {},
   "outputs": [],
   "source": [
    "from openpyxl import Workbook\n",
    "\n",
    "wb=Workbook()\n",
    "\n",
    "ws=wb.active\n",
    "ws.title='Data'\n",
    "\n",
    "data=[\n",
    "    ['name','age'],\n",
    "    ['Alice',30],\n",
    "    ['Bob',30],\n",
    "    ['Charlie',30]\n",
    "]\n",
    "\n",
    "for i in data:\n",
    "    ws.append(i)\n",
    "\n",
    "    wb.save('C:/Users/Administrator/python/codingon2.xlsx')"
   ]
  },
  {
   "cell_type": "code",
   "execution_count": 19,
   "metadata": {},
   "outputs": [
    {
     "name": "stdout",
     "output_type": "stream",
     "text": [
      "      name  age\n",
      "0    Alice   30\n",
      "1      Bob   30\n",
      "2  Charlie   30\n"
     ]
    }
   ],
   "source": [
    "import pandas as pd\n",
    "a=pd.read_excel('codingon2.xlsx')\n",
    "print(a)"
   ]
  },
  {
   "cell_type": "code",
   "execution_count": null,
   "metadata": {},
   "outputs": [],
   "source": []
  },
  {
   "cell_type": "code",
   "execution_count": 61,
   "metadata": {},
   "outputs": [
    {
     "name": "stdout",
     "output_type": "stream",
     "text": [
      "미국 USD 1,451.10\n",
      "일본 JPY(100엔) 922.89\n",
      "유럽연합 EUR 1,503.56\n",
      "중국 CNY 198.55\n"
     ]
    }
   ],
   "source": [
    "import requests\n",
    "from bs4 import BeautifulSoup\n",
    "from openpyxl import Workbook\n",
    "\n",
    "search=requests.get('https://finance.naver.com/marketindex/')\n",
    "html=search.text\n",
    "soup=BeautifulSoup(html, 'html.parser')\n",
    "news=soup.select('ul.data_lst li')\n",
    "\n",
    "\n",
    "data=[]\n",
    "\n",
    "for i in news[:4]:\n",
    "    a=i.select_one(\".blind\").get_text()\n",
    "    b=i.select_one(\".value\").get_text()\n",
    "    data.append([a,b])\n",
    "    print(a,b)\n",
    "\n",
    "wb=Workbook()\n",
    "\n",
    "ws=wb.active\n",
    "ws.title='Data'\n",
    "\n",
    "ws['A1']='통화'\n",
    "ws['B1']='환율'\n",
    "\n",
    "for i in data:\n",
    "    ws.append(i)\n",
    "    wb.save('C:/Users/Administrator/python/codingon3.xlsx')\n"
   ]
  },
  {
   "cell_type": "code",
   "execution_count": null,
   "metadata": {},
   "outputs": [],
   "source": []
  },
  {
   "cell_type": "code",
   "execution_count": null,
   "metadata": {},
   "outputs": [],
   "source": [
    "'''\n",
    "\n",
    "스마트팩토리 -> 공장 구현 -> 시뮬레이션 만들기 -> 생산효율성 및 수율 계산\n",
    "제품 개당 생산 시간\n",
    "\n",
    "부품 -> 양호, 미흡, 불량\n",
    "\n",
    "직원 -> 검수, 검사, 이동, 조립\n",
    "\n",
    "'''"
   ]
  },
  {
   "cell_type": "code",
   "execution_count": null,
   "metadata": {},
   "outputs": [],
   "source": []
  },
  {
   "cell_type": "code",
   "execution_count": null,
   "metadata": {},
   "outputs": [],
   "source": []
  },
  {
   "cell_type": "code",
   "execution_count": null,
   "metadata": {},
   "outputs": [],
   "source": []
  },
  {
   "cell_type": "code",
   "execution_count": null,
   "metadata": {},
   "outputs": [],
   "source": []
  }
 ],
 "metadata": {
  "kernelspec": {
   "display_name": "base",
   "language": "python",
   "name": "python3"
  },
  "language_info": {
   "codemirror_mode": {
    "name": "ipython",
    "version": 3
   },
   "file_extension": ".py",
   "mimetype": "text/x-python",
   "name": "python",
   "nbconvert_exporter": "python",
   "pygments_lexer": "ipython3",
   "version": "3.12.7"
  }
 },
 "nbformat": 4,
 "nbformat_minor": 2
}
