{
 "cells": [
  {
   "cell_type": "code",
   "execution_count": 10,
   "id": "5b55b958-aa83-4a4c-ab30-1da7377a86e7",
   "metadata": {},
   "outputs": [],
   "source": [
    "import pandas as pd"
   ]
  },
  {
   "cell_type": "code",
   "execution_count": 53,
   "id": "8192619c-795a-40d5-b026-7318d7ddb2f4",
   "metadata": {},
   "outputs": [],
   "source": [
    "a=pd.Series([1,2,3,4],index=['a','b','c','c'])"
   ]
  },
  {
   "cell_type": "code",
   "execution_count": 55,
   "id": "25ec6057-08b2-4fb9-a6e2-04ddafbbdad8",
   "metadata": {},
   "outputs": [
    {
     "name": "stdout",
     "output_type": "stream",
     "text": [
      "c    3\n",
      "c    4\n",
      "dtype: int64\n",
      "a    1\n",
      "b    2\n",
      "c    3\n",
      "c    4\n",
      "dtype: int64\n"
     ]
    }
   ],
   "source": [
    "print(a['c'])\n",
    "print(a)"
   ]
  },
  {
   "cell_type": "code",
   "execution_count": 43,
   "id": "53d82708-6bb4-4b11-a96c-2295373b4b5d",
   "metadata": {},
   "outputs": [],
   "source": [
    "b=pd.Series([1,2,3,4])"
   ]
  },
  {
   "cell_type": "code",
   "execution_count": 45,
   "id": "d922dad1-cbb4-4b44-9d36-d2226b869b9f",
   "metadata": {},
   "outputs": [
    {
     "name": "stdout",
     "output_type": "stream",
     "text": [
      "0    1\n",
      "1    2\n",
      "2    3\n",
      "3    4\n",
      "dtype: int64\n"
     ]
    }
   ],
   "source": [
    "print(b)"
   ]
  },
  {
   "cell_type": "code",
   "execution_count": 141,
   "id": "75e44054-212f-41b0-b15f-5dc0d43dbaf1",
   "metadata": {},
   "outputs": [],
   "source": [
    "#pd.Series(딕셔너리와 비슷, column, index, name)\n",
    "#pd.DataFrame(딕셔너리와 비슷, column, index)"
   ]
  },
  {
   "cell_type": "code",
   "execution_count": 63,
   "id": "53109555-c526-4f54-bc2b-f5930e5dde82",
   "metadata": {},
   "outputs": [
    {
     "name": "stdout",
     "output_type": "stream",
     "text": [
      "   Younghee  Chulsu\n",
      "a         1       5\n",
      "b         2       6\n",
      "c         3       7\n",
      "c         4       8\n"
     ]
    }
   ],
   "source": [
    "index=['a','b','c','c']\n",
    "a1=pd.Series([1,2,3,4],index=index)\n",
    "a2=pd.Series([5,6,7,8],index=index)\n",
    "\n",
    "b1=pd.DataFrame({'Younghee':a1, 'Chulsu':a2})\n",
    "print(b1)"
   ]
  },
  {
   "cell_type": "code",
   "execution_count": 99,
   "id": "481d1226-e1d7-47f7-bc64-312b5c39d15c",
   "metadata": {},
   "outputs": [
    {
     "name": "stdout",
     "output_type": "stream",
     "text": [
      "   영희  철수\n",
      "a   1   5\n",
      "b   2   6\n",
      "c   3   7\n",
      "c   4   8\n"
     ]
    }
   ],
   "source": [
    "index=['a','b','c','c']\n",
    "data={\n",
    "    '영희':[1,2,3,4],\n",
    "    '철수':[5,6,7,8]\n",
    "}\n",
    "b2=pd.DataFrame(data,index=index)\n",
    "print(b2)"
   ]
  },
  {
   "cell_type": "code",
   "execution_count": 101,
   "id": "3c538f58-a9ef-4a4b-bfc4-061da00d16ab",
   "metadata": {},
   "outputs": [
    {
     "name": "stdout",
     "output_type": "stream",
     "text": [
      "영희    int64\n",
      "철수    int64\n",
      "dtype: object\n"
     ]
    }
   ],
   "source": [
    "print(b2.dtypes)"
   ]
  },
  {
   "cell_type": "code",
   "execution_count": 103,
   "id": "2d0c2ee3-39aa-4609-a526-aa32397cda7d",
   "metadata": {},
   "outputs": [
    {
     "name": "stdout",
     "output_type": "stream",
     "text": [
      "영희    int64\n",
      "철수    int64\n",
      "dtype: object\n",
      "영희    float64\n",
      "철수      int64\n",
      "dtype: object\n",
      "영희    float64\n",
      "철수    float64\n",
      "dtype: object\n"
     ]
    }
   ],
   "source": [
    "b2.astype('float')\n",
    "print(b2.dtypes)\n",
    "b2=b2.astype({'영희':'float'})\n",
    "print(b2.dtypes)\n",
    "b2=b2.astype('float')\n",
    "print(b2.dtypes)"
   ]
  },
  {
   "cell_type": "code",
   "execution_count": 137,
   "id": "8533810c-aa7b-4688-8db4-f720f5f2876b",
   "metadata": {},
   "outputs": [
    {
     "data": {
      "text/html": [
       "<div>\n",
       "<style scoped>\n",
       "    .dataframe tbody tr th:only-of-type {\n",
       "        vertical-align: middle;\n",
       "    }\n",
       "\n",
       "    .dataframe tbody tr th {\n",
       "        vertical-align: top;\n",
       "    }\n",
       "\n",
       "    .dataframe thead th {\n",
       "        text-align: right;\n",
       "    }\n",
       "</style>\n",
       "<table border=\"1\" class=\"dataframe\">\n",
       "  <thead>\n",
       "    <tr style=\"text-align: right;\">\n",
       "      <th></th>\n",
       "      <th>Unnamed: 0</th>\n",
       "      <th>a</th>\n",
       "      <th>b</th>\n",
       "      <th>c</th>\n",
       "    </tr>\n",
       "  </thead>\n",
       "  <tbody>\n",
       "    <tr>\n",
       "      <th>0</th>\n",
       "      <td>100</td>\n",
       "      <td>1</td>\n",
       "      <td>2</td>\n",
       "      <td>3</td>\n",
       "    </tr>\n",
       "    <tr>\n",
       "      <th>1</th>\n",
       "      <td>200</td>\n",
       "      <td>4</td>\n",
       "      <td>5</td>\n",
       "      <td>6</td>\n",
       "    </tr>\n",
       "  </tbody>\n",
       "</table>\n",
       "</div>"
      ],
      "text/plain": [
       "   Unnamed: 0  a  b  c\n",
       "0         100  1  2  3\n",
       "1         200  4  5  6"
      ]
     },
     "execution_count": 137,
     "metadata": {},
     "output_type": "execute_result"
    }
   ],
   "source": [
    "pd.read_csv('1.csv')"
   ]
  },
  {
   "cell_type": "code",
   "execution_count": 139,
   "id": "426a9e62-c224-4ce7-99e6-41f1112bdfb7",
   "metadata": {},
   "outputs": [
    {
     "data": {
      "text/html": [
       "<div>\n",
       "<style scoped>\n",
       "    .dataframe tbody tr th:only-of-type {\n",
       "        vertical-align: middle;\n",
       "    }\n",
       "\n",
       "    .dataframe tbody tr th {\n",
       "        vertical-align: top;\n",
       "    }\n",
       "\n",
       "    .dataframe thead th {\n",
       "        text-align: right;\n",
       "    }\n",
       "</style>\n",
       "<table border=\"1\" class=\"dataframe\">\n",
       "  <thead>\n",
       "    <tr style=\"text-align: right;\">\n",
       "      <th></th>\n",
       "      <th>a</th>\n",
       "      <th>b</th>\n",
       "      <th>c</th>\n",
       "    </tr>\n",
       "  </thead>\n",
       "  <tbody>\n",
       "    <tr>\n",
       "      <th>100</th>\n",
       "      <td>1</td>\n",
       "      <td>2</td>\n",
       "      <td>3</td>\n",
       "    </tr>\n",
       "    <tr>\n",
       "      <th>200</th>\n",
       "      <td>4</td>\n",
       "      <td>5</td>\n",
       "      <td>6</td>\n",
       "    </tr>\n",
       "  </tbody>\n",
       "</table>\n",
       "</div>"
      ],
      "text/plain": [
       "     a  b  c\n",
       "100  1  2  3\n",
       "200  4  5  6"
      ]
     },
     "execution_count": 139,
     "metadata": {},
     "output_type": "execute_result"
    }
   ],
   "source": [
    "pd.read_csv('1.csv',index_col=0)"
   ]
  },
  {
   "cell_type": "code",
   "execution_count": null,
   "id": "9dfbdd4c-cc87-4712-ac12-956bb99cd45c",
   "metadata": {},
   "outputs": [],
   "source": [
    "ingredients = pd.Series(['4 cups','1 cup','2 large','1 can'], index=['Flour', 'Milk', 'Eggs', 'Spam'], name='Dinner')\n",
    "\n",
    "# Check your answer\n",
    "q3.check()\n",
    "ingredients"
   ]
  },
  {
   "cell_type": "code",
   "execution_count": null,
   "id": "523b5fda-89d2-4e1b-867b-57f624b3ed2f",
   "metadata": {},
   "outputs": [],
   "source": [
    "reviews = pd.read_csv('../input/wine-reviews/winemag-data_first150k.csv',index_col=0)\n",
    "\n",
    "# Check your answer\n",
    "q4.check()\n",
    "reviews"
   ]
  },
  {
   "cell_type": "code",
   "execution_count": null,
   "id": "d00b673e-b83b-48d2-8aa3-8e262274105e",
   "metadata": {},
   "outputs": [],
   "source": [
    "animals = pd.DataFrame({'Cows': [12, 20], 'Goats': [22, 19]}, index=['Year 1', 'Year 2'])\n",
    "animals\n"
   ]
  },
  {
   "cell_type": "code",
   "execution_count": null,
   "id": "1aa847ee-fd81-4e5a-a2ea-1e6453232d7b",
   "metadata": {},
   "outputs": [],
   "source": [
    "# Your code goes here\n",
    "animals.to_csv('cows_and_goats.csv')\n",
    "pd.DataFrame.to_csv(animals, \"cows_and_goats.csv\")\n",
    "# Check your answer\n",
    "q5.check()"
   ]
  },
  {
   "cell_type": "code",
   "execution_count": null,
   "id": "d37d2883-ee7f-4128-baf3-6c2eb373576a",
   "metadata": {},
   "outputs": [],
   "source": []
  },
  {
   "cell_type": "code",
   "execution_count": 276,
   "id": "50e04a8c-4039-441f-a2ba-e0666dac017f",
   "metadata": {},
   "outputs": [
    {
     "name": "stdout",
     "output_type": "stream",
     "text": [
      "   영희  철 수\n",
      "a   1    5\n",
      "b   2    6\n",
      "c   3    7\n",
      "c   4    8\n"
     ]
    }
   ],
   "source": [
    "index=['a','b','c','c']\n",
    "data={\n",
    "    '영희':[1,2,3,4],\n",
    "    '철 수':[5,6,7,8]\n",
    "}\n",
    "b2=pd.DataFrame(data,index=index)\n",
    "print(b2)"
   ]
  },
  {
   "cell_type": "code",
   "execution_count": 161,
   "id": "eea19b44-39ac-438d-8ed2-557ab8801d8e",
   "metadata": {
    "scrolled": true
   },
   "outputs": [
    {
     "name": "stdout",
     "output_type": "stream",
     "text": [
      "a    1\n",
      "b    2\n",
      "c    3\n",
      "c    4\n",
      "Name: 영희, dtype: int64\n",
      "1\n",
      "b    2\n",
      "c    3\n",
      "c    4\n",
      "Name: 영희, dtype: int64\n",
      "<class 'pandas.core.series.Series'>\n"
     ]
    },
    {
     "name": "stderr",
     "output_type": "stream",
     "text": [
      "C:\\Users\\Administrator\\AppData\\Local\\Temp\\ipykernel_7112\\2504978142.py:2: FutureWarning: Series.__getitem__ treating keys as positions is deprecated. In a future version, integer keys will always be treated as labels (consistent with DataFrame behavior). To access a value by position, use `ser.iloc[pos]`\n",
      "  print(b2['영희'][0])\n"
     ]
    }
   ],
   "source": [
    "print(b2['영희'])\n",
    "print(b2['영희'][0])\n",
    "print(b2['영희'][1:])\n",
    "print(type(b2['영희']))\n"
   ]
  },
  {
   "cell_type": "code",
   "execution_count": 205,
   "id": "1e1843e9-8d04-45d1-a9a3-80f0fe73ddda",
   "metadata": {},
   "outputs": [
    {
     "name": "stdout",
     "output_type": "stream",
     "text": [
      "   영희  철 수\n",
      "b   2    6\n",
      "c   3    7\n",
      "c   4    8\n",
      "b    6\n",
      "c    7\n",
      "c    8\n",
      "Name: 철 수, dtype: int64\n",
      "a    1\n",
      "b    2\n",
      "Name: 영희, dtype: int64\n",
      "1\n",
      "a    5\n",
      "b    6\n",
      "c    7\n",
      "c    8\n",
      "Name: 철 수, dtype: int64\n",
      "111111111111111\n",
      "   영희  철 수\n",
      "a   1    5\n",
      "b   2    6\n",
      "c   3    7\n",
      "c   4    8\n"
     ]
    }
   ],
   "source": [
    "print(b2.iloc[1:])\n",
    "print(b2.iloc[1:,1])\n",
    "print(b2.iloc[:2,0])\n",
    "\n",
    "\n",
    "\n",
    "print(b2.loc['a','영희'])\n",
    "print(b2.loc[:,'철 수'])\n",
    "print('111111111111111')\n",
    "print(b2.loc[:,['영희','철 수']])\n"
   ]
  },
  {
   "cell_type": "code",
   "execution_count": 215,
   "id": "d906840f-bc67-4fc1-b05a-e91aa7fb9ca7",
   "metadata": {},
   "outputs": [
    {
     "name": "stdout",
     "output_type": "stream",
     "text": [
      "     영희\n",
      "철 수    \n",
      "5     1\n",
      "6     2\n",
      "7     3\n",
      "8     4\n"
     ]
    }
   ],
   "source": [
    "# 특정 컬럼을 인덱스로 사용하겠다.\n",
    "b2=b2.set_index(\"철 수\")\n",
    "print(b2)"
   ]
  },
  {
   "cell_type": "code",
   "execution_count": 236,
   "id": "ebbd665f-01fd-42a9-94bb-c6f8b49a02d7",
   "metadata": {},
   "outputs": [
    {
     "name": "stdout",
     "output_type": "stream",
     "text": [
      "   영희  철 수\n",
      "a   1    5\n",
      "   영희  철 수\n",
      "c   3    7\n",
      "c   4    8\n",
      "   영희  철 수\n",
      "b   2    6\n"
     ]
    }
   ],
   "source": [
    "# 조건은 컬럼명에만 들어갈 수 있다.\n",
    "print(b2.loc[b2.영희 == 1])\n",
    "print(b2.loc[b2.영희 >= 3])\n",
    "print(b2.loc[b2.영희 == 2])\n"
   ]
  },
  {
   "cell_type": "code",
   "execution_count": 250,
   "id": "6820e6c0-7cd7-4d7e-adfa-ab11e2577890",
   "metadata": {},
   "outputs": [
    {
     "data": {
      "text/html": [
       "<div>\n",
       "<style scoped>\n",
       "    .dataframe tbody tr th:only-of-type {\n",
       "        vertical-align: middle;\n",
       "    }\n",
       "\n",
       "    .dataframe tbody tr th {\n",
       "        vertical-align: top;\n",
       "    }\n",
       "\n",
       "    .dataframe thead th {\n",
       "        text-align: right;\n",
       "    }\n",
       "</style>\n",
       "<table border=\"1\" class=\"dataframe\">\n",
       "  <thead>\n",
       "    <tr style=\"text-align: right;\">\n",
       "      <th></th>\n",
       "      <th>a</th>\n",
       "      <th>b</th>\n",
       "      <th>c</th>\n",
       "      <th>c</th>\n",
       "    </tr>\n",
       "  </thead>\n",
       "  <tbody>\n",
       "    <tr>\n",
       "      <th>영희</th>\n",
       "      <td>1</td>\n",
       "      <td>2</td>\n",
       "      <td>3</td>\n",
       "      <td>4</td>\n",
       "    </tr>\n",
       "    <tr>\n",
       "      <th>철 수</th>\n",
       "      <td>5</td>\n",
       "      <td>6</td>\n",
       "      <td>7</td>\n",
       "      <td>8</td>\n",
       "    </tr>\n",
       "  </tbody>\n",
       "</table>\n",
       "</div>"
      ],
      "text/plain": [
       "     a  b  c  c\n",
       "영희   1  2  3  4\n",
       "철 수  5  6  7  8"
      ]
     },
     "execution_count": 250,
     "metadata": {},
     "output_type": "execute_result"
    }
   ],
   "source": [
    "b2.T"
   ]
  },
  {
   "cell_type": "code",
   "execution_count": null,
   "id": "2e4ad8ed-8f5e-4846-b2df-05cf880bf4dd",
   "metadata": {},
   "outputs": [],
   "source": [
    "# isin 함수\n",
    "# notnull 함수\n"
   ]
  },
  {
   "cell_type": "code",
   "execution_count": 278,
   "id": "de96d957-7ad1-421c-8424-f05ffbcbdbf6",
   "metadata": {},
   "outputs": [
    {
     "name": "stdout",
     "output_type": "stream",
     "text": [
      "   영희  철 수\n",
      "a   1    5\n",
      "b   2    6\n",
      "c   3    7\n",
      "c   4    8\n",
      "   영희  철 수  영철\n",
      "a   1    5   4\n",
      "b   2    6   3\n",
      "c   3    7   2\n",
      "c   4    8   1\n"
     ]
    }
   ],
   "source": [
    "print(b2)\n",
    "b2['영철']=range(len(b2),0,0-1)\n",
    "print(b2)\n"
   ]
  },
  {
   "cell_type": "code",
   "execution_count": null,
   "id": "f9098356-0d0c-489d-986f-39796b145efb",
   "metadata": {},
   "outputs": [],
   "source": [
    "# Your code here\n",
    "desc = reviews['description']"
   ]
  },
  {
   "cell_type": "code",
   "execution_count": null,
   "id": "f5095ab2-5337-4208-be6d-ef507630b7e7",
   "metadata": {},
   "outputs": [],
   "source": [
    "first_description = reviews.loc[0,'description']\n"
   ]
  },
  {
   "cell_type": "code",
   "execution_count": null,
   "id": "020f645e-10d3-4885-9d6d-3aa464f837fa",
   "metadata": {},
   "outputs": [],
   "source": [
    "first_row = reviews.iloc[0,:]"
   ]
  },
  {
   "cell_type": "code",
   "execution_count": null,
   "id": "96ae5919-5624-4218-b358-30bda34a7f30",
   "metadata": {},
   "outputs": [],
   "source": [
    "first_descriptions = reviews.loc[:,'description'].head(10)\n"
   ]
  },
  {
   "cell_type": "code",
   "execution_count": null,
   "id": "0e399ceb-64e6-4082-8961-619cdedf36f3",
   "metadata": {},
   "outputs": [],
   "source": [
    "sample_reviews = reviews.iloc[[1,2,3,5,8],:]\n",
    "df = reviews.loc[[0,1,10,100],['country','province','region_1','region_2']]\n",
    "df = reviews.loc[0:99,['country','variety']]\n",
    "italian_wines = reviews.loc[reviews.country=='Italy']\n",
    "top_oceania_wines = reviews.loc[reviews.country.isin(['Australia','New Zealand']) & (reviews.points>=95)]\n"
   ]
  },
  {
   "cell_type": "code",
   "execution_count": null,
   "id": "e8e05f6f-1e71-4ee2-917f-6f97d92f61ec",
   "metadata": {},
   "outputs": [],
   "source": []
  },
  {
   "cell_type": "code",
   "execution_count": null,
   "id": "f154f898-641c-4177-9f1e-5fc39ef9cf3e",
   "metadata": {},
   "outputs": [],
   "source": []
  },
  {
   "cell_type": "code",
   "execution_count": null,
   "id": "4c581d1b-80a5-45a8-b096-ded28b7cf7a7",
   "metadata": {},
   "outputs": [],
   "source": []
  },
  {
   "cell_type": "code",
   "execution_count": null,
   "id": "13b4dcb1-44ad-413d-9d98-2f86ebeb5771",
   "metadata": {},
   "outputs": [],
   "source": []
  },
  {
   "cell_type": "code",
   "execution_count": null,
   "id": "6dfed023-3bc1-4a33-9d10-18bfa227eef0",
   "metadata": {},
   "outputs": [],
   "source": []
  },
  {
   "cell_type": "code",
   "execution_count": null,
   "id": "d88d9588-4dbc-4b35-b438-848ec03d69e2",
   "metadata": {},
   "outputs": [],
   "source": []
  },
  {
   "cell_type": "code",
   "execution_count": null,
   "id": "e02c743b-5af3-45d0-9c00-9fd9e3ebda74",
   "metadata": {},
   "outputs": [],
   "source": []
  },
  {
   "cell_type": "code",
   "execution_count": null,
   "id": "858f6588-2e3b-402a-a514-e6badcf5cf83",
   "metadata": {},
   "outputs": [],
   "source": []
  }
 ],
 "metadata": {
  "kernelspec": {
   "display_name": "Python 3 (ipykernel)",
   "language": "python",
   "name": "python3"
  },
  "language_info": {
   "codemirror_mode": {
    "name": "ipython",
    "version": 3
   },
   "file_extension": ".py",
   "mimetype": "text/x-python",
   "name": "python",
   "nbconvert_exporter": "python",
   "pygments_lexer": "ipython3",
   "version": "3.12.7"
  }
 },
 "nbformat": 4,
 "nbformat_minor": 5
}
